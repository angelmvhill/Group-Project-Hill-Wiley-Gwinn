{
 "cells": [
  {
   "cell_type": "markdown",
   "metadata": {},
   "source": [
    "#Import Test Dataframe"
   ]
  },
  {
   "cell_type": "code",
   "execution_count": 23,
   "metadata": {},
   "outputs": [],
   "source": [
    "import pandas as pd\n",
    "\n",
    "df_stock = pd.read_csv(r'C:\\Users\\angel\\Documents\\Documents\\GitHub\\Group-Project-Hill-Wiley-Gwinn\\Data\\AAPL.csv')\n",
    "df_fin = pd.read_csv(r\"C:\\Users\\angel\\Documents\\Documents\\GitHub\\Group-Project-Hill-Wiley-Gwinn\\Data\\AAPLfinancials.csv\")"
   ]
  },
  {
   "cell_type": "markdown",
   "metadata": {},
   "source": [
    "#Import BackTrader and Instantiate Cerebro Engine"
   ]
  },
  {
   "cell_type": "code",
   "execution_count": 25,
   "metadata": {},
   "outputs": [
    {
     "name": "stdout",
     "output_type": "stream",
     "text": [
      "Starting Portfolio Value: 2500.00\n",
      "Final Portfolio Value: 2500.00\n"
     ]
    }
   ],
   "source": [
    "import backtrader as bt\n",
    "\n",
    "cerebro = bt.Cerebro()\n",
    "\n",
    "cerebro.broker.set_cash(2500)\n",
    "print('Starting Portfolio Value: %.2f' % cerebro.broker.getvalue())\n",
    "\n",
    "cerebro.run()\n",
    "print('Final Portfolio Value: %.2f' % cerebro.broker.getvalue())\n",
    "\n",
    "cerebro.adddata(data)\n"
   ]
  },
  {
   "cell_type": "markdown",
   "metadata": {},
   "source": [
    "#Create Strategy"
   ]
  },
  {
   "cell_type": "code",
   "execution_count": null,
   "metadata": {},
   "outputs": [],
   "source": []
  }
 ],
 "metadata": {
  "language_info": {
   "name": "python"
  },
  "orig_nbformat": 4
 },
 "nbformat": 4,
 "nbformat_minor": 2
}
