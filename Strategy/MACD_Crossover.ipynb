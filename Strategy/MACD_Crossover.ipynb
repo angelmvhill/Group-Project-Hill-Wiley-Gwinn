{
 "cells": [
  {
   "cell_type": "markdown",
   "metadata": {},
   "source": [
    "#Import Dataframes and Instantiate Cerebro Backtrader Engine"
   ]
  },
  {
   "cell_type": "code",
   "execution_count": 106,
   "metadata": {},
   "outputs": [
    {
     "name": "stdout",
     "output_type": "stream",
     "text": [
      "<backtrader.feeds.yahoo.YahooFinanceCSVData object at 0x000002C58FA8FF70> <backtrader.feeds.yahoo.YahooFinanceCSVData object at 0x000002C58FB342B0>\n",
      "Starting Portfolio Value: 2500.00\n",
      "Final Portfolio Value: 2500.00\n"
     ]
    }
   ],
   "source": [
    "# import pandas as pd\n",
    "import backtrader as bt\n",
    "from backtrader import cerebro\n",
    "import backtrader.feeds as btfeeds\n",
    "\n",
    "os.getcwd()\n",
    "os.chdir(r'C:\\Users\\angel\\Documents\\Documents\\GitHub\\Group-Project-Hill-Wiley-Gwinn\\Data')\n",
    "\n",
    "# df_stock = pd.read_csv(r'C:\\Users\\angel\\Documents\\Documents\\GitHub\\Group-Project-Hill-Wiley-Gwinn\\Data\\AAPL.csv')\n",
    "# df_fin = pd.read_csv(r\"C:\\Users\\angel\\Documents\\Documents\\GitHub\\Group-Project-Hill-Wiley-Gwinn\\Data\\AAPLfinancials.csv\")\n",
    "\n",
    "cerebro = bt.Cerebro()\n",
    "\n",
    "pricedf = bt.feeds.YahooFinanceCSVData(dataname='AAPL.csv', reverse=False)\n",
    "ratiodf = bt.feeds.YahooFinanceCSVData(dataname='AAPLfinancials.csv', reverse=False)\n",
    "\n",
    "cerebro.adddata(pricedf, ratiodf)\n",
    "print(pricedf, ratiodf) #why are the df's not printing?\n",
    "\n",
    "cerebro.broker.set_cash(2500)\n",
    "print('Starting Portfolio Value: %.2f' % cerebro.broker.getvalue())\n",
    "print('Final Portfolio Value: %.2f' % cerebro.broker.getvalue())"
   ]
  },
  {
   "cell_type": "markdown",
   "metadata": {},
   "source": [
    "#Create MACD Strategy Class"
   ]
  },
  {
   "cell_type": "code",
   "execution_count": 7,
   "metadata": {},
   "outputs": [
    {
     "name": "stdout",
     "output_type": "stream",
     "text": [
      "['AAPL.csv', 'AAPLfinancials.csv']\n",
      "Starting Portfolio Value: 100000.00\n",
      "2016-12-21, Close, 27.59\n"
     ]
    },
    {
     "ename": "AttributeError",
     "evalue": "'Lines_LineSeries_LineIterator_DataAccessor_Strateg' object has no attribute 'order'",
     "output_type": "error",
     "traceback": [
      "\u001b[1;31m---------------------------------------------------------------------------\u001b[0m",
      "\u001b[1;31mAttributeError\u001b[0m                            Traceback (most recent call last)",
      "\u001b[1;32m~\\AppData\\Local\\Temp/ipykernel_12856/1297489605.py\u001b[0m in \u001b[0;36m<module>\u001b[1;34m\u001b[0m\n\u001b[0;32m    131\u001b[0m \u001b[1;33m\u001b[0m\u001b[0m\n\u001b[0;32m    132\u001b[0m     \u001b[1;31m# Run over everything\u001b[0m\u001b[1;33m\u001b[0m\u001b[1;33m\u001b[0m\u001b[0m\n\u001b[1;32m--> 133\u001b[1;33m     \u001b[0mcerebro\u001b[0m\u001b[1;33m.\u001b[0m\u001b[0mrun\u001b[0m\u001b[1;33m(\u001b[0m\u001b[1;33m)\u001b[0m\u001b[1;33m\u001b[0m\u001b[1;33m\u001b[0m\u001b[0m\n\u001b[0m\u001b[0;32m    134\u001b[0m \u001b[1;33m\u001b[0m\u001b[0m\n\u001b[0;32m    135\u001b[0m     \u001b[1;31m# Print out the final result\u001b[0m\u001b[1;33m\u001b[0m\u001b[1;33m\u001b[0m\u001b[0m\n",
      "\u001b[1;32m~\\AppData\\Local\\Packages\\PythonSoftwareFoundation.Python.3.9_qbz5n2kfra8p0\\LocalCache\\local-packages\\Python39\\site-packages\\backtrader\\cerebro.py\u001b[0m in \u001b[0;36mrun\u001b[1;34m(self, **kwargs)\u001b[0m\n\u001b[0;32m   1125\u001b[0m             \u001b[1;31m# let's skip process \"spawning\"\u001b[0m\u001b[1;33m\u001b[0m\u001b[1;33m\u001b[0m\u001b[0m\n\u001b[0;32m   1126\u001b[0m             \u001b[1;32mfor\u001b[0m \u001b[0miterstrat\u001b[0m \u001b[1;32min\u001b[0m \u001b[0miterstrats\u001b[0m\u001b[1;33m:\u001b[0m\u001b[1;33m\u001b[0m\u001b[1;33m\u001b[0m\u001b[0m\n\u001b[1;32m-> 1127\u001b[1;33m                 \u001b[0mrunstrat\u001b[0m \u001b[1;33m=\u001b[0m \u001b[0mself\u001b[0m\u001b[1;33m.\u001b[0m\u001b[0mrunstrategies\u001b[0m\u001b[1;33m(\u001b[0m\u001b[0miterstrat\u001b[0m\u001b[1;33m)\u001b[0m\u001b[1;33m\u001b[0m\u001b[1;33m\u001b[0m\u001b[0m\n\u001b[0m\u001b[0;32m   1128\u001b[0m                 \u001b[0mself\u001b[0m\u001b[1;33m.\u001b[0m\u001b[0mrunstrats\u001b[0m\u001b[1;33m.\u001b[0m\u001b[0mappend\u001b[0m\u001b[1;33m(\u001b[0m\u001b[0mrunstrat\u001b[0m\u001b[1;33m)\u001b[0m\u001b[1;33m\u001b[0m\u001b[1;33m\u001b[0m\u001b[0m\n\u001b[0;32m   1129\u001b[0m                 \u001b[1;32mif\u001b[0m \u001b[0mself\u001b[0m\u001b[1;33m.\u001b[0m\u001b[0m_dooptimize\u001b[0m\u001b[1;33m:\u001b[0m\u001b[1;33m\u001b[0m\u001b[1;33m\u001b[0m\u001b[0m\n",
      "\u001b[1;32m~\\AppData\\Local\\Packages\\PythonSoftwareFoundation.Python.3.9_qbz5n2kfra8p0\\LocalCache\\local-packages\\Python39\\site-packages\\backtrader\\cerebro.py\u001b[0m in \u001b[0;36mrunstrategies\u001b[1;34m(self, iterstrat, predata)\u001b[0m\n\u001b[0;32m   1291\u001b[0m                     \u001b[0mself\u001b[0m\u001b[1;33m.\u001b[0m\u001b[0m_runonce_old\u001b[0m\u001b[1;33m(\u001b[0m\u001b[0mrunstrats\u001b[0m\u001b[1;33m)\u001b[0m\u001b[1;33m\u001b[0m\u001b[1;33m\u001b[0m\u001b[0m\n\u001b[0;32m   1292\u001b[0m                 \u001b[1;32melse\u001b[0m\u001b[1;33m:\u001b[0m\u001b[1;33m\u001b[0m\u001b[1;33m\u001b[0m\u001b[0m\n\u001b[1;32m-> 1293\u001b[1;33m                     \u001b[0mself\u001b[0m\u001b[1;33m.\u001b[0m\u001b[0m_runonce\u001b[0m\u001b[1;33m(\u001b[0m\u001b[0mrunstrats\u001b[0m\u001b[1;33m)\u001b[0m\u001b[1;33m\u001b[0m\u001b[1;33m\u001b[0m\u001b[0m\n\u001b[0m\u001b[0;32m   1294\u001b[0m             \u001b[1;32melse\u001b[0m\u001b[1;33m:\u001b[0m\u001b[1;33m\u001b[0m\u001b[1;33m\u001b[0m\u001b[0m\n\u001b[0;32m   1295\u001b[0m                 \u001b[1;32mif\u001b[0m \u001b[0mself\u001b[0m\u001b[1;33m.\u001b[0m\u001b[0mp\u001b[0m\u001b[1;33m.\u001b[0m\u001b[0moldsync\u001b[0m\u001b[1;33m:\u001b[0m\u001b[1;33m\u001b[0m\u001b[1;33m\u001b[0m\u001b[0m\n",
      "\u001b[1;32m~\\AppData\\Local\\Packages\\PythonSoftwareFoundation.Python.3.9_qbz5n2kfra8p0\\LocalCache\\local-packages\\Python39\\site-packages\\backtrader\\cerebro.py\u001b[0m in \u001b[0;36m_runonce\u001b[1;34m(self, runstrats)\u001b[0m\n\u001b[0;32m   1693\u001b[0m \u001b[1;33m\u001b[0m\u001b[0m\n\u001b[0;32m   1694\u001b[0m             \u001b[1;32mfor\u001b[0m \u001b[0mstrat\u001b[0m \u001b[1;32min\u001b[0m \u001b[0mrunstrats\u001b[0m\u001b[1;33m:\u001b[0m\u001b[1;33m\u001b[0m\u001b[1;33m\u001b[0m\u001b[0m\n\u001b[1;32m-> 1695\u001b[1;33m                 \u001b[0mstrat\u001b[0m\u001b[1;33m.\u001b[0m\u001b[0m_oncepost\u001b[0m\u001b[1;33m(\u001b[0m\u001b[0mdt0\u001b[0m\u001b[1;33m)\u001b[0m\u001b[1;33m\u001b[0m\u001b[1;33m\u001b[0m\u001b[0m\n\u001b[0m\u001b[0;32m   1696\u001b[0m                 \u001b[1;32mif\u001b[0m \u001b[0mself\u001b[0m\u001b[1;33m.\u001b[0m\u001b[0m_event_stop\u001b[0m\u001b[1;33m:\u001b[0m  \u001b[1;31m# stop if requested\u001b[0m\u001b[1;33m\u001b[0m\u001b[1;33m\u001b[0m\u001b[0m\n\u001b[0;32m   1697\u001b[0m                     \u001b[1;32mreturn\u001b[0m\u001b[1;33m\u001b[0m\u001b[1;33m\u001b[0m\u001b[0m\n",
      "\u001b[1;32m~\\AppData\\Local\\Packages\\PythonSoftwareFoundation.Python.3.9_qbz5n2kfra8p0\\LocalCache\\local-packages\\Python39\\site-packages\\backtrader\\strategy.py\u001b[0m in \u001b[0;36m_oncepost\u001b[1;34m(self, dt)\u001b[0m\n\u001b[0;32m    309\u001b[0m             \u001b[0mself\u001b[0m\u001b[1;33m.\u001b[0m\u001b[0mnext\u001b[0m\u001b[1;33m(\u001b[0m\u001b[1;33m)\u001b[0m\u001b[1;33m\u001b[0m\u001b[1;33m\u001b[0m\u001b[0m\n\u001b[0;32m    310\u001b[0m         \u001b[1;32melif\u001b[0m \u001b[0mminperstatus\u001b[0m \u001b[1;33m==\u001b[0m \u001b[1;36m0\u001b[0m\u001b[1;33m:\u001b[0m\u001b[1;33m\u001b[0m\u001b[1;33m\u001b[0m\u001b[0m\n\u001b[1;32m--> 311\u001b[1;33m             \u001b[0mself\u001b[0m\u001b[1;33m.\u001b[0m\u001b[0mnextstart\u001b[0m\u001b[1;33m(\u001b[0m\u001b[1;33m)\u001b[0m  \u001b[1;31m# only called for the 1st value\u001b[0m\u001b[1;33m\u001b[0m\u001b[1;33m\u001b[0m\u001b[0m\n\u001b[0m\u001b[0;32m    312\u001b[0m         \u001b[1;32melse\u001b[0m\u001b[1;33m:\u001b[0m\u001b[1;33m\u001b[0m\u001b[1;33m\u001b[0m\u001b[0m\n\u001b[0;32m    313\u001b[0m             \u001b[0mself\u001b[0m\u001b[1;33m.\u001b[0m\u001b[0mprenext\u001b[0m\u001b[1;33m(\u001b[0m\u001b[1;33m)\u001b[0m\u001b[1;33m\u001b[0m\u001b[1;33m\u001b[0m\u001b[0m\n",
      "\u001b[1;32m~\\AppData\\Local\\Packages\\PythonSoftwareFoundation.Python.3.9_qbz5n2kfra8p0\\LocalCache\\local-packages\\Python39\\site-packages\\backtrader\\lineiterator.py\u001b[0m in \u001b[0;36mnextstart\u001b[1;34m(self)\u001b[0m\n\u001b[0;32m    345\u001b[0m \u001b[1;33m\u001b[0m\u001b[0m\n\u001b[0;32m    346\u001b[0m         \u001b[1;31m# Called once for 1st full calculation - defaults to regular next\u001b[0m\u001b[1;33m\u001b[0m\u001b[1;33m\u001b[0m\u001b[0m\n\u001b[1;32m--> 347\u001b[1;33m         \u001b[0mself\u001b[0m\u001b[1;33m.\u001b[0m\u001b[0mnext\u001b[0m\u001b[1;33m(\u001b[0m\u001b[1;33m)\u001b[0m\u001b[1;33m\u001b[0m\u001b[1;33m\u001b[0m\u001b[0m\n\u001b[0m\u001b[0;32m    348\u001b[0m \u001b[1;33m\u001b[0m\u001b[0m\n\u001b[0;32m    349\u001b[0m     \u001b[1;32mdef\u001b[0m \u001b[0mnext\u001b[0m\u001b[1;33m(\u001b[0m\u001b[0mself\u001b[0m\u001b[1;33m)\u001b[0m\u001b[1;33m:\u001b[0m\u001b[1;33m\u001b[0m\u001b[1;33m\u001b[0m\u001b[0m\n",
      "\u001b[1;32m~\\AppData\\Local\\Temp/ipykernel_12856/1297489605.py\u001b[0m in \u001b[0;36mnext\u001b[1;34m(self)\u001b[0m\n\u001b[0;32m     81\u001b[0m \u001b[1;33m\u001b[0m\u001b[0m\n\u001b[0;32m     82\u001b[0m         \u001b[1;31m# Check if an order is pending - will need to remove for when we trade multiple stocks\u001b[0m\u001b[1;33m\u001b[0m\u001b[1;33m\u001b[0m\u001b[0m\n\u001b[1;32m---> 83\u001b[1;33m         \u001b[1;32mif\u001b[0m \u001b[0mself\u001b[0m\u001b[1;33m.\u001b[0m\u001b[0morder\u001b[0m\u001b[1;33m:\u001b[0m\u001b[1;33m\u001b[0m\u001b[1;33m\u001b[0m\u001b[0m\n\u001b[0m\u001b[0;32m     84\u001b[0m             \u001b[1;32mreturn\u001b[0m\u001b[1;33m\u001b[0m\u001b[1;33m\u001b[0m\u001b[0m\n\u001b[0;32m     85\u001b[0m \u001b[1;33m\u001b[0m\u001b[0m\n",
      "\u001b[1;32m~\\AppData\\Local\\Packages\\PythonSoftwareFoundation.Python.3.9_qbz5n2kfra8p0\\LocalCache\\local-packages\\Python39\\site-packages\\backtrader\\lineseries.py\u001b[0m in \u001b[0;36m__getattr__\u001b[1;34m(self, name)\u001b[0m\n\u001b[0;32m    459\u001b[0m         \u001b[1;31m# in this object if we set an attribute in this object it will be\u001b[0m\u001b[1;33m\u001b[0m\u001b[1;33m\u001b[0m\u001b[0m\n\u001b[0;32m    460\u001b[0m         \u001b[1;31m# found before we end up here\u001b[0m\u001b[1;33m\u001b[0m\u001b[1;33m\u001b[0m\u001b[0m\n\u001b[1;32m--> 461\u001b[1;33m         \u001b[1;32mreturn\u001b[0m \u001b[0mgetattr\u001b[0m\u001b[1;33m(\u001b[0m\u001b[0mself\u001b[0m\u001b[1;33m.\u001b[0m\u001b[0mlines\u001b[0m\u001b[1;33m,\u001b[0m \u001b[0mname\u001b[0m\u001b[1;33m)\u001b[0m\u001b[1;33m\u001b[0m\u001b[1;33m\u001b[0m\u001b[0m\n\u001b[0m\u001b[0;32m    462\u001b[0m \u001b[1;33m\u001b[0m\u001b[0m\n\u001b[0;32m    463\u001b[0m     \u001b[1;32mdef\u001b[0m \u001b[0m__len__\u001b[0m\u001b[1;33m(\u001b[0m\u001b[0mself\u001b[0m\u001b[1;33m)\u001b[0m\u001b[1;33m:\u001b[0m\u001b[1;33m\u001b[0m\u001b[1;33m\u001b[0m\u001b[0m\n",
      "\u001b[1;31mAttributeError\u001b[0m: 'Lines_LineSeries_LineIterator_DataAccessor_Strateg' object has no attribute 'order'"
     ]
    }
   ],
   "source": [
    "import backtrader.indicators as btind\n",
    "import backtrader as bt\n",
    "import datetime\n",
    "\n",
    "class MACD_Crossover(bt.Strategy):\n",
    "    \"\"\"\n",
    "    This class serves as template for developing trading strategies using the MACD\n",
    "    technical indicator. The buy logic is dependant on a crossover that occurs with\n",
    "    the MACD indicator.\n",
    "    \"\"\"\n",
    "\n",
    "    params = (\n",
    "        # Standard MACD Parameters\n",
    "        ('macd1', 12),\n",
    "        ('macd2', 26),\n",
    "        ('macdsig', 9),\n",
    "        ('atrperiod', 14),  # ATR Period (standard)\n",
    "        ('atrdist', 3.0),   # ATR distance for stop price\n",
    "        ('smaperiod', 30),  # SMA Period (pretty standard)\n",
    "        ('dirperiod', 10),  # Lookback period to consider SMA trend direction\n",
    "    )\n",
    "\n",
    "    def log(self, txt, dt=None):\n",
    "        '''Logging function for strategy'''\n",
    "        dt = dt or self.datas[0].datetime.date(0)\n",
    "        print('%s, %s' % (dt.isoformat(), txt))\n",
    "\n",
    "    def __init__(self):\n",
    "        self.macd = bt.indicators.MACD(self.data,\n",
    "                                        period_me1=self.p.macd1,\n",
    "                                        period_me2=self.p.macd2,\n",
    "                                        period_signal=self.p.macdsig)\n",
    "\n",
    "        # self.order = None\n",
    "        # self.buyprice = None\n",
    "        # self.buycomm = None\n",
    "\n",
    "        # Cross of macd.macd and macd.signal\n",
    "        self.mcross = bt.indicators.CrossOver(self.macd.macd, self.macd.signal)\n",
    "\n",
    "        # set stop price indicator\n",
    "        self.atr = bt.indicators.ATR(self.data, period=self.p.atrperiod)\n",
    "\n",
    "        self.sma = bt.indicators.SMA(self.data, period=self.p.smaperiod)\n",
    "        self.smadir = self.sma - self.sma(-self.p.dirperiod)\n",
    "\n",
    "    def notify_order(self, order):\n",
    "        \n",
    "        # if order.status in [order.Submitted, order.Accepted]:\n",
    "        #     # Buy/Sell order submitted/accepted to/by broker\n",
    "        #     return\n",
    "        \n",
    "        # # Check if an order has been completed\n",
    "        # # Attention: broker could reject order if not enough cash\n",
    "        # if order.status in [order.Completed]:\n",
    "        #     if order.isbuy():\n",
    "        #         self.log('BUY EXECUTED, %.2f' % order.executed.price)\n",
    "        #     elif order.issell():\n",
    "        #         self.log('SELL EXECUTED, %.2f' % order.executed.price)\n",
    "\n",
    "        #     self.bar_executed = len(self)\n",
    "\n",
    "        # elif order.status in [order.Canceled, order.Margin, order.Rejected]:\n",
    "        #     self.log('Order Canceled/Margin/Rejected')\n",
    "\n",
    "        # # Write down: no pending order\n",
    "        # self.order = None\n",
    "\n",
    "    def next(self):\n",
    "        if self.CrossOver == 1:\n",
    "            # buy stock\n",
    "            pass\n",
    "        elif self.CrossOver == -1:\n",
    "            # sell stock\n",
    "            pass\n",
    "        # else:\n",
    "            pass  \n",
    "\n",
    "    def next(self):\n",
    "        # Simply log the closing price of the series from the reference\n",
    "        self.log('Close, %.2f' % self.data.close[0])\n",
    "\n",
    "        # Check if an order is pending - will need to remove for when we trade multiple stocks\n",
    "        if self.order:\n",
    "            return\n",
    "\n",
    "        # Check if we are in the market\n",
    "        if not self.position:\n",
    "            if self.mcross == 1:\n",
    "                self.order = self.buy()\n",
    "                self.log('BUY CREATE, %.2f' % self.data.close[0])\n",
    "            \n",
    "        else: # Already in a position\n",
    "            if self.mcross == -1:\n",
    "                self.order = self.sell()\n",
    "                self.log('SELL CREATE, %.2f' % self.data.close[0])\n",
    "\n",
    "if __name__ == '__main__':\n",
    "    # Create a cerebro entity\n",
    "    cerebro = bt.Cerebro()\n",
    "\n",
    "    # Add a strategy\n",
    "    cerebro.addstrategy(MACD_Crossover)\n",
    "\n",
    "    # Datas are in a subfolder of the samples. Need to find where the script is\n",
    "    # because it could have been called from anywhere\n",
    "    # modpath = os.path.dirname(os.path.abspath(sys.argv[0]))\n",
    "    # datapath = os.path.join(modpath, r'C:\\Users\\angel\\Documents\\Documents\\GitHub\\Group-Project-Hill-Wiley-Gwinn\\Data')\n",
    "    os.chdir(r'C:/Users/angel/Documents/Documents/GitHub/Group-Project-Hill-Wiley-Gwinn/Data')\n",
    "    print(os.listdir())\n",
    "    # Create a Data Feed\n",
    "    pricedata = bt.feeds.YahooFinanceCSVData(\n",
    "        dataname='AAPL.csv',\n",
    "        # Do not pass values before this date\n",
    "        # fromdate=datetime.datetime(2000, 1, 1),\n",
    "        # # Do not pass values before this date\n",
    "        # todate=datetime.datetime(2000, 12, 31),\n",
    "        # # Do not pass values after this date\n",
    "        reverse=False) \n",
    "\n",
    "    # Add the Data Feed to Cerebro\n",
    "    cerebro.adddata(pricedata)\n",
    "\n",
    "    # Set our desired cash start\n",
    "    cerebro.broker.setcash(100000.0)\n",
    "\n",
    "    # Set the commission - 0.1% ... divide by 100 to remove the %\n",
    "    cerebro.broker.setcommission(commission=0.001)\n",
    "\n",
    "    # Print out the starting conditions\n",
    "    print('Starting Portfolio Value: %.2f' % cerebro.broker.getvalue())\n",
    " \n",
    "    # Run over everything\n",
    "    cerebro.run()\n",
    "\n",
    "    # Print out the final result\n",
    "    print('Final Portfolio Value: %.2f' % cerebro.broker.getvalue())\n",
    "\n",
    "    # os.getcwd()\n",
    "    # os.chdir(r'C:\\Users\\angel\\Documents\\Documents\\GitHub\\Group-Project-Hill-Wiley-Gwinn\\Data')\n",
    "\n",
    "    # # df_stock = pd.read_csv(r'C:\\Users\\angel\\Documents\\Documents\\GitHub\\Group-Project-Hill-Wiley-Gwinn\\Data\\AAPL.csv')\n",
    "    # # df_fin = pd.read_csv(r\"C:\\Users\\angel\\Documents\\Documents\\GitHub\\Group-Project-Hill-Wiley-Gwinn\\Data\\AAPLfinancials.csv\")\n",
    "\n",
    "    # cerebro = bt.Cerebro()\n",
    "\n",
    "    # pricedf = bt.feeds.YahooFinanceCSVData(dataname='AAPL.csv', reverse=False)\n",
    "    # ratiodf = bt.feeds.YahooFinanceCSVData(dataname='AAPLfinancials.csv', reverse=False)\n",
    "\n",
    "    # cerebro.adddata(pricedf, ratiodf)\n",
    "    # print(pricedf, ratiodf) #why are the df's not printing?\n",
    "\n",
    "    # cerebro.broker.set_cash(2500)\n",
    "    # print('Starting Portfolio Value: %.2f' % cerebro.broker.getvalue())\n",
    "    # print('Final Portfolio Value: %.2f' % cerebro.broker.getvalue())\n",
    "\n",
    "\n",
    "\n",
    "# macd1 = MACD_Crossover()\n",
    "\n",
    "        \n",
    "    \n"
   ]
  },
  {
   "cell_type": "markdown",
   "metadata": {},
   "source": [
    "#Create SMA Crossover 1 Strategy Class"
   ]
  },
  {
   "cell_type": "code",
   "execution_count": null,
   "metadata": {},
   "outputs": [],
   "source": []
  },
  {
   "cell_type": "markdown",
   "metadata": {},
   "source": [
    "#Create EMA Crossover 2 Strategy Class"
   ]
  },
  {
   "cell_type": "code",
   "execution_count": null,
   "metadata": {},
   "outputs": [],
   "source": [
    "class SMA_EMA_Crossover(bt.Strategy):\n",
    "\n",
    "    def __init__(self):\n",
    "\n",
    "        sma1 = btind.SimpleMovingAverage(self.data)\n",
    "        ema1 = btind.ExponentialMovingAverage()\n",
    "\n",
    "        close_over_sma = self.data.close > sma1\n",
    "        close_over_ema = self.data.close > ema1\n",
    "        sma_ema_diff = sma1 - ema1\n",
    "\n",
    "        buy_sig = bt.And(close_over_sma, close_over_ema, sma_ema_diff > 0)\n",
    "\n",
    "    def next(self):\n",
    "\n",
    "        if buy_sig:\n",
    "            self.buy()"
   ]
  },
  {
   "cell_type": "markdown",
   "metadata": {},
   "source": [
    "#Create Mean Reversion Strategy"
   ]
  },
  {
   "cell_type": "code",
   "execution_count": null,
   "metadata": {},
   "outputs": [],
   "source": []
  },
  {
   "cell_type": "markdown",
   "metadata": {},
   "source": [
    "#Buy and hold baseline strategy"
   ]
  }
 ],
 "metadata": {
  "interpreter": {
   "hash": "d62bf26cced73ea125945064761b766a12ba49f06257a4865f283bda77d40a78"
  },
  "kernelspec": {
   "display_name": "Python 3.9.9 64-bit (windows store)",
   "language": "python",
   "name": "python3"
  },
  "language_info": {
   "name": "python",
   "version": "3.9.9"
  },
  "orig_nbformat": 4
 },
 "nbformat": 4,
 "nbformat_minor": 2
}
