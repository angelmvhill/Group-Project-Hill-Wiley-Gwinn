{
 "cells": [
  {
   "cell_type": "markdown",
   "metadata": {},
   "source": [
    "#Import Dataframes and Instantiate Cerebro Backtrader Engine"
   ]
  },
  {
   "cell_type": "code",
   "execution_count": 78,
   "metadata": {},
   "outputs": [
    {
     "name": "stdout",
     "output_type": "stream",
     "text": [
      "<backtrader.feeds.yahoo.YahooFinanceCSVData object at 0x000002C58FAE76A0> <backtrader.feeds.yahoo.YahooFinanceCSVData object at 0x000002C58FB29490>\n",
      "Starting Portfolio Value: 2500.00\n",
      "Final Portfolio Value: 2500.00\n"
     ]
    }
   ],
   "source": [
    "# import pandas as pd\n",
    "import backtrader as bt\n",
    "from backtrader import cerebro\n",
    "import backtrader.feeds as btfeeds\n",
    "\n",
    "os.getcwd()\n",
    "os.chdir(r'C:\\Users\\angel\\Documents\\Documents\\GitHub\\Group-Project-Hill-Wiley-Gwinn\\Data')\n",
    "\n",
    "# df_stock = pd.read_csv(r'C:\\Users\\angel\\Documents\\Documents\\GitHub\\Group-Project-Hill-Wiley-Gwinn\\Data\\AAPL.csv')\n",
    "# df_fin = pd.read_csv(r\"C:\\Users\\angel\\Documents\\Documents\\GitHub\\Group-Project-Hill-Wiley-Gwinn\\Data\\AAPLfinancials.csv\")\n",
    "\n",
    "cerebro = bt.Cerebro()\n",
    "\n",
    "pricedf = bt.feeds.YahooFinanceCSVData(dataname='AAPL.csv', reverse=False)\n",
    "ratiodf = bt.feeds.YahooFinanceCSVData(dataname='AAPLfinancials.csv', reverse=False)\n",
    "\n",
    "cerebro.adddata(pricedf, ratiodf)\n",
    "print(pricedf, ratiodf) #why are the df's not printing?\n",
    "\n",
    "cerebro.broker.set_cash(2500)\n",
    "print('Starting Portfolio Value: %.2f' % cerebro.broker.getvalue())\n",
    "print('Final Portfolio Value: %.2f' % cerebro.broker.getvalue())"
   ]
  },
  {
   "cell_type": "markdown",
   "metadata": {},
   "source": [
    "#Create MACD Strategy Class"
   ]
  },
  {
   "cell_type": "code",
   "execution_count": 93,
   "metadata": {},
   "outputs": [
    {
     "ename": "AttributeError",
     "evalue": "'NoneType' object has no attribute '_next_stid'",
     "output_type": "error",
     "traceback": [
      "\u001b[1;31m---------------------------------------------------------------------------\u001b[0m",
      "\u001b[1;31mAttributeError\u001b[0m                            Traceback (most recent call last)",
      "\u001b[1;32m~\\AppData\\Local\\Temp/ipykernel_39952/1281428826.py\u001b[0m in \u001b[0;36m<module>\u001b[1;34m\u001b[0m\n\u001b[0;32m     28\u001b[0m             \u001b[1;32mpass\u001b[0m\u001b[1;33m\u001b[0m\u001b[1;33m\u001b[0m\u001b[0m\n\u001b[0;32m     29\u001b[0m \u001b[1;33m\u001b[0m\u001b[0m\n\u001b[1;32m---> 30\u001b[1;33m \u001b[0mmacd1\u001b[0m \u001b[1;33m=\u001b[0m \u001b[0mMACD_Crossover\u001b[0m\u001b[1;33m(\u001b[0m\u001b[1;33m)\u001b[0m\u001b[1;33m\u001b[0m\u001b[1;33m\u001b[0m\u001b[0m\n\u001b[0m\u001b[0;32m     31\u001b[0m \u001b[1;33m\u001b[0m\u001b[0m\n\u001b[0;32m     32\u001b[0m \u001b[1;33m\u001b[0m\u001b[0m\n",
      "\u001b[1;32m~\\AppData\\Local\\Packages\\PythonSoftwareFoundation.Python.3.9_qbz5n2kfra8p0\\LocalCache\\local-packages\\Python39\\site-packages\\backtrader\\metabase.py\u001b[0m in \u001b[0;36m__call__\u001b[1;34m(cls, *args, **kwargs)\u001b[0m\n\u001b[0;32m     84\u001b[0m     \u001b[1;32mdef\u001b[0m \u001b[0m__call__\u001b[0m\u001b[1;33m(\u001b[0m\u001b[0mcls\u001b[0m\u001b[1;33m,\u001b[0m \u001b[1;33m*\u001b[0m\u001b[0margs\u001b[0m\u001b[1;33m,\u001b[0m \u001b[1;33m**\u001b[0m\u001b[0mkwargs\u001b[0m\u001b[1;33m)\u001b[0m\u001b[1;33m:\u001b[0m\u001b[1;33m\u001b[0m\u001b[1;33m\u001b[0m\u001b[0m\n\u001b[0;32m     85\u001b[0m         \u001b[0mcls\u001b[0m\u001b[1;33m,\u001b[0m \u001b[0margs\u001b[0m\u001b[1;33m,\u001b[0m \u001b[0mkwargs\u001b[0m \u001b[1;33m=\u001b[0m \u001b[0mcls\u001b[0m\u001b[1;33m.\u001b[0m\u001b[0mdoprenew\u001b[0m\u001b[1;33m(\u001b[0m\u001b[1;33m*\u001b[0m\u001b[0margs\u001b[0m\u001b[1;33m,\u001b[0m \u001b[1;33m**\u001b[0m\u001b[0mkwargs\u001b[0m\u001b[1;33m)\u001b[0m\u001b[1;33m\u001b[0m\u001b[1;33m\u001b[0m\u001b[0m\n\u001b[1;32m---> 86\u001b[1;33m         \u001b[0m_obj\u001b[0m\u001b[1;33m,\u001b[0m \u001b[0margs\u001b[0m\u001b[1;33m,\u001b[0m \u001b[0mkwargs\u001b[0m \u001b[1;33m=\u001b[0m \u001b[0mcls\u001b[0m\u001b[1;33m.\u001b[0m\u001b[0mdonew\u001b[0m\u001b[1;33m(\u001b[0m\u001b[1;33m*\u001b[0m\u001b[0margs\u001b[0m\u001b[1;33m,\u001b[0m \u001b[1;33m**\u001b[0m\u001b[0mkwargs\u001b[0m\u001b[1;33m)\u001b[0m\u001b[1;33m\u001b[0m\u001b[1;33m\u001b[0m\u001b[0m\n\u001b[0m\u001b[0;32m     87\u001b[0m         \u001b[0m_obj\u001b[0m\u001b[1;33m,\u001b[0m \u001b[0margs\u001b[0m\u001b[1;33m,\u001b[0m \u001b[0mkwargs\u001b[0m \u001b[1;33m=\u001b[0m \u001b[0mcls\u001b[0m\u001b[1;33m.\u001b[0m\u001b[0mdopreinit\u001b[0m\u001b[1;33m(\u001b[0m\u001b[0m_obj\u001b[0m\u001b[1;33m,\u001b[0m \u001b[1;33m*\u001b[0m\u001b[0margs\u001b[0m\u001b[1;33m,\u001b[0m \u001b[1;33m**\u001b[0m\u001b[0mkwargs\u001b[0m\u001b[1;33m)\u001b[0m\u001b[1;33m\u001b[0m\u001b[1;33m\u001b[0m\u001b[0m\n\u001b[0;32m     88\u001b[0m         \u001b[0m_obj\u001b[0m\u001b[1;33m,\u001b[0m \u001b[0margs\u001b[0m\u001b[1;33m,\u001b[0m \u001b[0mkwargs\u001b[0m \u001b[1;33m=\u001b[0m \u001b[0mcls\u001b[0m\u001b[1;33m.\u001b[0m\u001b[0mdoinit\u001b[0m\u001b[1;33m(\u001b[0m\u001b[0m_obj\u001b[0m\u001b[1;33m,\u001b[0m \u001b[1;33m*\u001b[0m\u001b[0margs\u001b[0m\u001b[1;33m,\u001b[0m \u001b[1;33m**\u001b[0m\u001b[0mkwargs\u001b[0m\u001b[1;33m)\u001b[0m\u001b[1;33m\u001b[0m\u001b[1;33m\u001b[0m\u001b[0m\n",
      "\u001b[1;32m~\\AppData\\Local\\Packages\\PythonSoftwareFoundation.Python.3.9_qbz5n2kfra8p0\\LocalCache\\local-packages\\Python39\\site-packages\\backtrader\\strategy.py\u001b[0m in \u001b[0;36mdonew\u001b[1;34m(cls, *args, **kwargs)\u001b[0m\n\u001b[0;32m     71\u001b[0m         \u001b[1;31m# Find the owner and store it\u001b[0m\u001b[1;33m\u001b[0m\u001b[1;33m\u001b[0m\u001b[0m\n\u001b[0;32m     72\u001b[0m         \u001b[0m_obj\u001b[0m\u001b[1;33m.\u001b[0m\u001b[0menv\u001b[0m \u001b[1;33m=\u001b[0m \u001b[0m_obj\u001b[0m\u001b[1;33m.\u001b[0m\u001b[0mcerebro\u001b[0m \u001b[1;33m=\u001b[0m \u001b[0mcerebro\u001b[0m \u001b[1;33m=\u001b[0m \u001b[0mfindowner\u001b[0m\u001b[1;33m(\u001b[0m\u001b[0m_obj\u001b[0m\u001b[1;33m,\u001b[0m \u001b[0mbt\u001b[0m\u001b[1;33m.\u001b[0m\u001b[0mCerebro\u001b[0m\u001b[1;33m)\u001b[0m\u001b[1;33m\u001b[0m\u001b[1;33m\u001b[0m\u001b[0m\n\u001b[1;32m---> 73\u001b[1;33m         \u001b[0m_obj\u001b[0m\u001b[1;33m.\u001b[0m\u001b[0m_id\u001b[0m \u001b[1;33m=\u001b[0m \u001b[0mcerebro\u001b[0m\u001b[1;33m.\u001b[0m\u001b[0m_next_stid\u001b[0m\u001b[1;33m(\u001b[0m\u001b[1;33m)\u001b[0m\u001b[1;33m\u001b[0m\u001b[1;33m\u001b[0m\u001b[0m\n\u001b[0m\u001b[0;32m     74\u001b[0m \u001b[1;33m\u001b[0m\u001b[0m\n\u001b[0;32m     75\u001b[0m         \u001b[1;32mreturn\u001b[0m \u001b[0m_obj\u001b[0m\u001b[1;33m,\u001b[0m \u001b[0margs\u001b[0m\u001b[1;33m,\u001b[0m \u001b[0mkwargs\u001b[0m\u001b[1;33m\u001b[0m\u001b[1;33m\u001b[0m\u001b[0m\n",
      "\u001b[1;31mAttributeError\u001b[0m: 'NoneType' object has no attribute '_next_stid'"
     ]
    }
   ],
   "source": [
    "import backtrader.indicators as btind\n",
    "\n",
    "class MACD_Crossover(bt.Strategy):\n",
    "    \"\"\"\n",
    "    This class serves as template for developing trading strategies using the MACD\n",
    "    technical indicator. The buy logic is dependant on a crossover that occurs with\n",
    "    the MACD indicator.\n",
    "    \"\"\"\n",
    "   \n",
    "    def log(self, txt, dt=None):\n",
    "        ''' Logging function for strategy'''\n",
    "        dt = dt or self.datas[0].datetime.date(0)\n",
    "        print('%s, %s' % (dt.isoformat(), txt))\n",
    "\n",
    "    def __init__(self):\n",
    "        self.macd = bt.indicators.MACD(self.data,\n",
    "                                        period_me1=self.p.macd1,\n",
    "                                        period_me2=self.p.macd2,\n",
    "                                        period_signal=self.p.macdsig)\n",
    " \n",
    "        # Cross of macd.macd and macd.signal\n",
    "        self.mcross = bt.indicators.CrossOver(self.macd.macd, self.macd.signal)\n",
    "\n",
    "        set stop price indicator\n",
    "        self.atr = bt.indicators.ATR(self.data, period=self.p.atrperiod)\n",
    "        \n",
    "        self.MACD = btind.MACD(period=9)\n",
    "        self.CrossOver = btind.CrossOver\n",
    "        # self.CrossOver = self.MACD\n",
    "        # self.Crossover(data = self.MACD)\n",
    "\n",
    "    def next(self):\n",
    "        if self.CrossOver == 1:\n",
    "            # buy stock\n",
    "            pass\n",
    "        elif self.CrossOver == -1:\n",
    "            # sell stock\n",
    "            pass\n",
    "        # else:\n",
    "            pass\n",
    "\n",
    "macd1 = MACD_Crossover()\n",
    "\n",
    "        \n",
    "    \n"
   ]
  },
  {
   "cell_type": "markdown",
   "metadata": {},
   "source": [
    "#Create SMA Crossover 1 Strategy Class"
   ]
  },
  {
   "cell_type": "code",
   "execution_count": null,
   "metadata": {},
   "outputs": [],
   "source": []
  },
  {
   "cell_type": "markdown",
   "metadata": {},
   "source": [
    "#Create SMA Crossover 2 Strategy Class"
   ]
  },
  {
   "cell_type": "code",
   "execution_count": null,
   "metadata": {},
   "outputs": [],
   "source": []
  },
  {
   "cell_type": "markdown",
   "metadata": {},
   "source": [
    "#Create Mean Reversion Strategy"
   ]
  },
  {
   "cell_type": "code",
   "execution_count": null,
   "metadata": {},
   "outputs": [],
   "source": []
  }
 ],
 "metadata": {
  "language_info": {
   "name": "python"
  },
  "orig_nbformat": 4
 },
 "nbformat": 4,
 "nbformat_minor": 2
}
